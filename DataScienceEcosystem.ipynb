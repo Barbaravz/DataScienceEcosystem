{
 "cells": [
  {
   "cell_type": "markdown",
   "id": "95d69c7a-c0c7-4c1d-962d-528f307ec9c2",
   "metadata": {},
   "source": [
    "###### Exercise 2: Create markdown cell with title of the notebook"
   ]
  },
  {
   "cell_type": "markdown",
   "id": "b36aa128-c284-4f09-a414-73a25330da48",
   "metadata": {},
   "source": [
    "# Data Science Tools and Ecosystem"
   ]
  },
  {
   "cell_type": "markdown",
   "id": "86d2ffb8-3252-442e-9b7c-716ffea0db78",
   "metadata": {},
   "source": [
    "###### Exercise 3 - Create a markdown cell for an introduction"
   ]
  },
  {
   "cell_type": "markdown",
   "id": "d6c3638c-fb72-4841-8ecb-5d4faeb0da5c",
   "metadata": {},
   "source": [
    "In this notebook, Data Science Tools and Ecosystem are summarized."
   ]
  },
  {
   "cell_type": "markdown",
   "id": "e0e895c5-384e-4b72-9832-8f22f3615078",
   "metadata": {},
   "source": [
    "###### Exercise 4 - Create a markdown cell to list data science languages"
   ]
  },
  {
   "cell_type": "markdown",
   "id": "8f3ef1d1-0246-456b-9c87-5205198beb77",
   "metadata": {},
   "source": [
    "Some of the popular languages that Data Scientists use are:\n",
    "1. Python\n",
    "2. R\n",
    "3. SQL"
   ]
  },
  {
   "cell_type": "markdown",
   "id": "8e04cb79-5aca-41b2-8ab9-a40f3241a550",
   "metadata": {},
   "source": [
    "###### Exercise 5 - Create a markdown cell to list data science libraries"
   ]
  },
  {
   "cell_type": "markdown",
   "id": "4f0a8aac-77c5-4e07-a156-9607979d67d7",
   "metadata": {},
   "source": [
    "Some of the commonly used libraries used by Data Scientists include:\n",
    "1. Pandas\n",
    "2. Matplotlib\n",
    "2. ggplot"
   ]
  },
  {
   "cell_type": "markdown",
   "id": "ec74b71e-d6e3-43d0-af5a-9715062f7771",
   "metadata": {},
   "source": [
    "###### Exercise 6 - Create a markdown cell with a table of Data Science tools"
   ]
  },
  {
   "cell_type": "markdown",
   "id": "0380fc81-0a92-4c4e-862d-0b906584bb98",
   "metadata": {},
   "source": [
    "|Data Science Tools|\n",
    "------------------\n",
    "|Jupyter Notebooks|\n",
    "|RStudio|\n",
    "|TensorFlow|"
   ]
  },
  {
   "cell_type": "markdown",
   "id": "63619771-faca-4cba-8ca9-4ca7d5925e07",
   "metadata": {},
   "source": [
    "###### Exercise 7 - Create a markdown cell introducing arithmetic expression examples"
   ]
  },
  {
   "cell_type": "markdown",
   "id": "3f97377f-ea20-491b-aa55-56984e210815",
   "metadata": {},
   "source": [
    "### Below are a few examples of evaluating arithmetic expressions in Python"
   ]
  },
  {
   "cell_type": "markdown",
   "id": "154b867a-e3bd-47e8-aabc-185dfaf8ed3f",
   "metadata": {},
   "source": [
    "###### Exercise 8 - Create a code cell to multiply and add numbers"
   ]
  },
  {
   "cell_type": "code",
   "execution_count": 2,
   "id": "07f6859b-ae4f-46be-bb4e-0c2f1cf1277d",
   "metadata": {},
   "outputs": [
    {
     "data": {
      "text/plain": [
       "17"
      ]
     },
     "execution_count": 2,
     "metadata": {},
     "output_type": "execute_result"
    }
   ],
   "source": [
    "# This a simple arithmetic expression to mutiply then add integers\n",
    "(3*4)+5"
   ]
  },
  {
   "cell_type": "markdown",
   "id": "a3a2a06b-a849-47a2-89a7-6f2d30e89a8d",
   "metadata": {},
   "source": [
    "###### Exercise 9 - Create a code cell to convert minutes to hours"
   ]
  },
  {
   "cell_type": "code",
   "execution_count": 3,
   "id": "4290d91e-604b-435c-afad-204415298da4",
   "metadata": {},
   "outputs": [
    {
     "data": {
      "text/plain": [
       "3.3333333333333335"
      ]
     },
     "execution_count": 3,
     "metadata": {},
     "output_type": "execute_result"
    }
   ],
   "source": [
    "# This will convert 200 minutes to hours by diving by 60\n",
    "200/60"
   ]
  },
  {
   "cell_type": "markdown",
   "id": "ab08c658-38ef-443c-b3d4-bd15be4d09b0",
   "metadata": {},
   "source": [
    "###### Exercise 10 - Insert a markdown cell to list Objectives"
   ]
  },
  {
   "cell_type": "markdown",
   "id": "f9f2ed07-7821-412c-acb6-c8b91c2d6f1d",
   "metadata": {},
   "source": [
    "**Objectives:**\n",
    "- List popular languages for Data Science\n",
    "- List popular libraries for Data Science\n",
    "- List popular tools for Data Science"
   ]
  },
  {
   "cell_type": "markdown",
   "id": "2706f383-7b81-4006-901e-a7d5a1970a60",
   "metadata": {},
   "source": [
    "###### Exercise 11 - Create a markdown cell to indicate the Author's name"
   ]
  },
  {
   "cell_type": "markdown",
   "id": "da41e115-96d5-4a8c-8776-34c6822d3287",
   "metadata": {},
   "source": [
    "## Author\n",
    "Barbara van Zyl"
   ]
  },
  {
   "cell_type": "code",
   "execution_count": null,
   "id": "74bf8e38-0074-4de8-9a4b-cd31005b2c01",
   "metadata": {},
   "outputs": [],
   "source": []
  }
 ],
 "metadata": {
  "kernelspec": {
   "display_name": "Python",
   "language": "python",
   "name": "conda-env-python-py"
  },
  "language_info": {
   "codemirror_mode": {
    "name": "ipython",
    "version": 3
   },
   "file_extension": ".py",
   "mimetype": "text/x-python",
   "name": "python",
   "nbconvert_exporter": "python",
   "pygments_lexer": "ipython3",
   "version": "3.7.12"
  }
 },
 "nbformat": 4,
 "nbformat_minor": 5
}
